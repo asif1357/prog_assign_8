{
 "cells": [
  {
   "cell_type": "code",
   "execution_count": 7,
   "id": "9589e1c0",
   "metadata": {},
   "outputs": [
    {
     "name": "stdout",
     "output_type": "stream",
     "text": [
      "enter rows : 2\n",
      "enter column : 2\n",
      "enter the elments of matrix 1 : \n",
      "1\n",
      "2\n",
      "3\n",
      "4\n",
      "matrix 1 :\n",
      "1 2 \n",
      "3 4 \n",
      "enter the elments of matrix 2 : \n",
      "2\n",
      "2\n",
      "2\n",
      "2\n",
      "matrix 2 :\n",
      "2 2 \n",
      "2 2 \n",
      "result matrix is : \n",
      "\n",
      "3 4 \n",
      "5 6 \n"
     ]
    }
   ],
   "source": [
    "#prog_1\n",
    "row=int(input(\"enter rows : \"))\n",
    "col=int(input(\"enter column : \"))\n",
    "print(\"enter the elments of matrix 1 : \")\n",
    "mat1=[[int(input()) for i in range(0,col)] for j in range(row)]\n",
    "print(\"matrix 1 :\")\n",
    "for i in range(0,row):\n",
    "    for j in range (col):\n",
    "        print(mat1[i][j],end=\" \")\n",
    "    print()\n",
    "\n",
    "print(\"enter the elments of matrix 2 : \")\n",
    "mat2=[[int(input()) for i in range(0,col)] for j in range(row)]\n",
    "print(\"matrix 2 :\")\n",
    "for i in range(0,row):\n",
    "    for j in range (col):\n",
    "        print(mat2[i][j],end=\" \")\n",
    "    print()\n",
    "mat=[[0 for i in range(0,col)] for j in range(row)]\n",
    "for i in range (0,row):\n",
    "    for j in range(0,col):\n",
    "        mat[i][j]=mat1[i][j]+mat2[i][j]\n",
    "print(\"result matrix is : \\n\")\n",
    "for i in range(0,row):\n",
    "    for j in range (0,col):\n",
    "        print(mat[i][j],end=\" \")\n",
    "    print()"
   ]
  },
  {
   "cell_type": "code",
   "execution_count": 8,
   "id": "4b104415",
   "metadata": {},
   "outputs": [
    {
     "name": "stdout",
     "output_type": "stream",
     "text": [
      "enter rows : 2\n",
      "enter column : 2\n",
      "enter the elments of matrix 1 : \n",
      "1\n",
      "2\n",
      "3\n",
      "4\n",
      "matrix 1 :\n",
      "1 2 \n",
      "3 4 \n",
      "enter the elments of matrix 2 : \n",
      "3\n",
      "3\n",
      "3\n",
      "3\n",
      "matrix 2 :\n",
      "3 3 \n",
      "3 3 \n",
      "result matrix is : \n",
      "\n",
      "3 6 \n",
      "9 12 \n"
     ]
    }
   ],
   "source": [
    "#prog_2\n",
    "row=int(input(\"enter rows : \"))\n",
    "col=int(input(\"enter column : \"))\n",
    "print(\"enter the elments of matrix 1 : \")\n",
    "mat1=[[int(input()) for i in range(0,col)] for j in range(row)]\n",
    "print(\"matrix 1 :\")\n",
    "for i in range(0,row):\n",
    "    for j in range (col):\n",
    "        print(mat1[i][j],end=\" \")\n",
    "    print()\n",
    "\n",
    "print(\"enter the elments of matrix 2 : \")\n",
    "mat2=[[int(input()) for i in range(0,col)] for j in range(row)]\n",
    "print(\"matrix 2 :\")\n",
    "for i in range(0,row):\n",
    "    for j in range (col):\n",
    "        print(mat2[i][j],end=\" \")\n",
    "    print()\n",
    "mat=[[0 for i in range(0,col)] for j in range(row)]\n",
    "for i in range (0,row):\n",
    "    for j in range(0,col):\n",
    "        mat[i][j]=mat1[i][j]*mat2[i][j]\n",
    "print(\"result matrix is : \\n\")\n",
    "for i in range(0,row):\n",
    "    for j in range (0,col):\n",
    "        print(mat[i][j],end=\" \")\n",
    "    print()"
   ]
  },
  {
   "cell_type": "code",
   "execution_count": 13,
   "id": "5a8455f3",
   "metadata": {},
   "outputs": [
    {
     "name": "stdout",
     "output_type": "stream",
     "text": [
      "enter rows : 2\n",
      "enter column : 3\n",
      "enter the elments of matrix : \n",
      "1\n",
      "2\n",
      "3\n",
      "4\n",
      "5\n",
      "6\n",
      "matrix :\n",
      "1 2 3 \n",
      "4 5 6 \n",
      "transpose of given matrix is : \n",
      "1 4 \n",
      "2 5 \n",
      "3 6 \n"
     ]
    }
   ],
   "source": [
    "#prog_3\n",
    "row=int(input(\"enter rows : \"))\n",
    "col=int(input(\"enter column : \"))\n",
    "print(\"enter the elments of matrix : \")\n",
    "mat=[[int(input()) for i in range(0,col)] for j in range(row)]\n",
    "print(\"matrix :\")\n",
    "for i in range(0,row):\n",
    "    for j in range (col):\n",
    "        print(mat[i][j],end=\" \")\n",
    "    print()\n",
    "\n",
    "print(\"transpose of given matrix is : \")\n",
    "tmat=[[0 for i in range(row)] for j in range (col)]\n",
    "for i in range(col):\n",
    "    for j in range(row):\n",
    "        tmat[i][j]=mat[j][i]\n",
    "\n",
    "for i in range(col):\n",
    "    for j in range(row):\n",
    "        print(tmat[i][j],end=\" \")\n",
    "    print()\n",
    "\n",
    "\n"
   ]
  },
  {
   "cell_type": "code",
   "execution_count": 33,
   "id": "ff6b13a2",
   "metadata": {},
   "outputs": [],
   "source": [
    "#prog_4\n",
    "s=\"This is my string the words of which are to be sorted in alphabetical order\""
   ]
  },
  {
   "cell_type": "code",
   "execution_count": 34,
   "id": "6e11e0f4",
   "metadata": {},
   "outputs": [],
   "source": [
    "s1=(s.lower()).split()"
   ]
  },
  {
   "cell_type": "code",
   "execution_count": 35,
   "id": "89d32acb",
   "metadata": {},
   "outputs": [],
   "source": [
    "s1.sort()"
   ]
  },
  {
   "cell_type": "code",
   "execution_count": 36,
   "id": "ccf11269",
   "metadata": {},
   "outputs": [
    {
     "name": "stdout",
     "output_type": "stream",
     "text": [
      "['alphabetical', 'are', 'be', 'in', 'is', 'my', 'of', 'order', 'sorted', 'string', 'the', 'this', 'to', 'which', 'words']\n"
     ]
    }
   ],
   "source": [
    "print(s1)"
   ]
  },
  {
   "cell_type": "code",
   "execution_count": 45,
   "id": "a3927bab",
   "metadata": {},
   "outputs": [
    {
     "name": "stdout",
     "output_type": "stream",
     "text": [
      "Enter the string: %%&&njhxj@@!!!nklnkscn))>><   sjcjs...jsbc\n",
      "njhxjnklnkscnsjcjsjsbc\n"
     ]
    }
   ],
   "source": [
    "#prog_5\n",
    "punc = '''! () – [] {} : ; ‘ \" \"\\ , <> . / ? @ # $ % ^ & *_ '''\n",
    "str_1 = input(\"Enter the string: \")\n",
    "no_punc = \"\"\n",
    "for char in str_1:\n",
    "        if char not in punc:\n",
    "             no_punc = no_punc + char \n",
    "print(no_punc)"
   ]
  },
  {
   "cell_type": "code",
   "execution_count": null,
   "id": "8dae1b8a",
   "metadata": {},
   "outputs": [],
   "source": []
  }
 ],
 "metadata": {
  "kernelspec": {
   "display_name": "Python 3 (ipykernel)",
   "language": "python",
   "name": "python3"
  },
  "language_info": {
   "codemirror_mode": {
    "name": "ipython",
    "version": 3
   },
   "file_extension": ".py",
   "mimetype": "text/x-python",
   "name": "python",
   "nbconvert_exporter": "python",
   "pygments_lexer": "ipython3",
   "version": "3.9.12"
  }
 },
 "nbformat": 4,
 "nbformat_minor": 5
}
